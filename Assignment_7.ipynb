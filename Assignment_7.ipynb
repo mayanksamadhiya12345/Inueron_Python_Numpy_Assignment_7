{
 "cells": [
  {
   "cell_type": "markdown",
   "metadata": {},
   "source": [
    "## Problem_(1)\n",
    "Write a function so that the columns of the output matrix are powers of the input\n",
    "vector.\n",
    "The order of the powers is determined by the increasing boolean argument. Specifically, when\n",
    "increasing is False, the i-th output column is the input vector raised element-wise to the power\n",
    "of N - i - 1.\n",
    "\n",
    "HINT: Such a matrix with a geometric progression in each row is named for Alexandre-\n",
    "Theophile Vandermonde."
   ]
  },
  {
   "cell_type": "code",
   "execution_count": 17,
   "metadata": {},
   "outputs": [
    {
     "name": "stdout",
     "output_type": "stream",
     "text": [
      "=========================OUTPUT=========================\n",
      "\n",
      "The input array is: [1 2 3 4 5] \n",
      "\n",
      "========================================================\n",
      "\n",
      "Number of columns in output matrix should be: 5 \n",
      "\n",
      "========================================================\n",
      "\n",
      "Output matrix of the input array in decreasing order of powers:\n",
      "\n",
      " [[  1   1   1   1   1]\n",
      " [ 16   8   4   2   1]\n",
      " [ 81  27   9   3   1]\n",
      " [256  64  16   4   1]\n",
      " [625 125  25   5   1]] \n",
      "\n",
      "========================================================\n",
      "\n",
      "Output matrix of the input array in increasing order of powers:\n",
      "\n",
      " [[  1   1   1   1   1]\n",
      " [  1   2   4   8  16]\n",
      " [  1   3   9  27  81]\n",
      " [  1   4  16  64 256]\n",
      " [  1   5  25 125 625]] \n",
      "\n"
     ]
    }
   ],
   "source": [
    "# here we importing the numpy library for dealing with our data\n",
    "import numpy as np\n",
    "\n",
    "# here we are defining a function to change the inputvector into powers of that inputvector according to question\n",
    "# ipvector = inputvector\n",
    "# col_no = no. of columns \n",
    "\n",
    "# reshape(ipvector.size,col_no) = reshape(5,5)    \n",
    "# ipvector.size =  5\n",
    "# col_no = 5\n",
    "def gen_power_matrix(ipvector,col_no,increasing=\"False\"):\n",
    "    if not increasing:                                                                                               # not increasing means decreasing order = x**(N-i-1)\n",
    "        op_mat = np.array([x**(col_no-1-i) for x in ipvector for i in range(col_no)]).reshape(ipvector.size,col_no)\n",
    "    elif increasing:                                                                                                 # increasing order = x**(i)\n",
    "        op_mat = np.array([x**(i) for x in ipvector for i in range(col_no)]).reshape(ipvector.size,col_no)\n",
    "    return op_mat                                                                                                    # here we are returning our output matrix\n",
    " \n",
    "    \n",
    "\n",
    "# here we are initializing our input vector as well as column number \n",
    "inputvector = np.array([1,2,3,4,5])\n",
    "op_mat_col_no = 5\n",
    "op_mat_dec_ord = gen_power_matrix(inputvector,op_mat_col_no,False)\n",
    "op_mat_inc_ord = gen_power_matrix(inputvector,op_mat_col_no,True)\n",
    "\n",
    "\n",
    "print(\"=========================OUTPUT=========================\\n\")\n",
    "print(\"The input array is:\",inputvector,\"\\n\")\n",
    "print(\"========================================================\\n\")\n",
    "print(\"Number of columns in output matrix should be:\",op_mat_col_no,\"\\n\")\n",
    "print(\"========================================================\\n\")\n",
    "print(\"Output matrix of the input array in decreasing order of powers:\\n\\n\",op_mat_dec_ord,\"\\n\")\n",
    "print(\"========================================================\\n\")\n",
    "print(\"Output matrix of the input array in increasing order of powers:\\n\\n\",op_mat_inc_ord,\"\\n\")"
   ]
  },
  {
   "cell_type": "markdown",
   "metadata": {},
   "source": [
    "## problem(2)\n",
    "\n",
    "Given a sequence of n values x1, x2, ..., xn and a window size k>0, the k-th moving average of\n",
    "the given sequence is defined as follows:\n",
    "The moving average sequence has n-k+1 elements as shown below.\n",
    "The moving averages with k=4 of a ten-value sequence (n=10) is shown below\n",
    "i 1 2 3 4 5 6 7 8 9 10\n",
    "===== == == == == == == == == == ==\n",
    "Input 10 20 30 40 50 60 70 80 90 100\n",
    "y1 25 = (10+20+30+40)/4\n",
    "y2 35 = (20+30+40+50)/4\n",
    "y3 45 = (30+40+50+60)/4\n",
    "y4 55 = (40+50+60+70)/4\n",
    "y5 65 = (50+60+70+80)/4\n",
    "y6 75 = (60+70+80+90)/4\n",
    "y7 85 = (70+80+90+100)/4\n",
    "Thus, the moving average sequence has n-k+1=10-4+1=7 values.\n",
    "\n",
    "Write a function to find moving average in an array over a window:\n",
    "Test it over [3, 5, 7, 2, 8, 10, 11, 65, 72, 81, 99, 100, 150] and window of 3."
   ]
  },
  {
   "cell_type": "code",
   "execution_count": 46,
   "metadata": {},
   "outputs": [
    {
     "name": "stdout",
     "output_type": "stream",
     "text": [
      "=========================OUTPUT=========================\n",
      "\n",
      "[  5.           4.66666667   5.66666667   6.66666667   9.66666667\n",
      "  28.66666667  49.33333333  72.66666667  84.          93.33333333\n",
      " 116.33333333]\n"
     ]
    }
   ],
   "source": [
    "# here we importing the numpy library for dealing with our data\n",
    "import numpy as np\n",
    "\n",
    "# here we are defining a function to find moving average in an array over a window according to question\n",
    "def moving_average(a, k=3) :\n",
    "    op = np.cumsum(a, dtype=float)\n",
    "    op[k:] = op[k:] - op[:-k]\n",
    "    return op[k - 1:] / k\n",
    "\n",
    "# here we are initializing our array\n",
    "a = [3, 5, 7, 2, 8, 10, 11, 65, 72, 81, 99, 100, 150]\n",
    "\n",
    "print(\"=========================OUTPUT=========================\\n\")\n",
    "print(moving_average(a, k=3))\n"
   ]
  },
  {
   "cell_type": "code",
   "execution_count": 43,
   "metadata": {},
   "outputs": [
    {
     "name": "stdout",
     "output_type": "stream",
     "text": [
      "[  3.   8.  15.  17.  25.  35.  46. 111. 183. 264. 363. 463. 613.]\n",
      "[ 17.  25.  35.  46. 111. 183. 264. 363. 463. 613.]\n",
      "[  3.   8.  15.  17.  25.  35.  46. 111. 183. 264.]\n",
      "[ 15.  17.  25.  35.  46. 111. 183. 264. 363. 463. 613.]\n",
      "[  4.66666667   5.66666667   6.66666667   9.66666667  28.66666667\n",
      "  49.33333333  72.66666667  84.          93.33333333 116.33333333]\n",
      "[  5.           4.66666667   5.66666667   6.66666667   9.66666667\n",
      "  28.66666667  49.33333333  72.66666667  84.          93.33333333\n",
      " 116.33333333]\n"
     ]
    }
   ],
   "source": [
    "# ==== how is it working ====\n",
    "# all operations that is happening in oue second problem\n",
    "a = [3, 5, 7, 2, 8, 10, 11, 65, 72, 81, 99, 100, 150]\n",
    "k=3\n",
    "op = np.cumsum(a,dtype=float)\n",
    "print(op)\n",
    "print(op[k:])\n",
    "print(op[:-k])\n",
    "print(op[k-1:])\n",
    "print((op[k:] - op[:-k])/k)\n",
    "op[k:] = op[k:] - op[:-k]\n",
    "print(op[k-1:]/k)"
   ]
  },
  {
   "cell_type": "code",
   "execution_count": null,
   "metadata": {},
   "outputs": [],
   "source": []
  },
  {
   "cell_type": "code",
   "execution_count": null,
   "metadata": {},
   "outputs": [],
   "source": []
  },
  {
   "cell_type": "code",
   "execution_count": null,
   "metadata": {},
   "outputs": [],
   "source": []
  },
  {
   "cell_type": "code",
   "execution_count": null,
   "metadata": {},
   "outputs": [],
   "source": []
  },
  {
   "cell_type": "code",
   "execution_count": null,
   "metadata": {},
   "outputs": [],
   "source": []
  }
 ],
 "metadata": {
  "kernelspec": {
   "display_name": "Python 3",
   "language": "python",
   "name": "python3"
  },
  "language_info": {
   "codemirror_mode": {
    "name": "ipython",
    "version": 3
   },
   "file_extension": ".py",
   "mimetype": "text/x-python",
   "name": "python",
   "nbconvert_exporter": "python",
   "pygments_lexer": "ipython3",
   "version": "3.7.4"
  }
 },
 "nbformat": 4,
 "nbformat_minor": 2
}
